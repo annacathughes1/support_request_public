{
 "cells": [
  {
   "cell_type": "code",
   "execution_count": 1,
   "id": "1bf4da46",
   "metadata": {},
   "outputs": [],
   "source": [
    "from simplekit import SimpleKit\n",
    "import numpy\n",
    "import queue\n",
    "import random\n",
    "import matplotlib.pyplot as plt\n",
    "import math\n",
    "import yaml"
   ]
  },
  {
   "cell_type": "code",
   "execution_count": 2,
   "id": "5b3d2a63",
   "metadata": {
    "scrolled": true
   },
   "outputs": [
    {
     "name": "stdout",
     "output_type": "stream",
     "text": [
      "{'arrivalRate': 1, 'svcRate': 'unif'}\n"
     ]
    }
   ],
   "source": [
    "with open('configDist.yaml', 'r') as file:\n",
    "    doc = yaml.safe_load(file)\n",
    "print(doc)"
   ]
  },
  {
   "cell_type": "code",
   "execution_count": 3,
   "id": "73acfa11",
   "metadata": {},
   "outputs": [
    {
     "ename": "KeyError",
     "evalue": "0",
     "output_type": "error",
     "traceback": [
      "\u001b[1;31m---------------------------------------------------------------------------\u001b[0m",
      "\u001b[1;31mKeyError\u001b[0m                                  Traceback (most recent call last)",
      "\u001b[1;32m~\\AppData\\Local\\Temp\\ipykernel_17356\\2996984392.py\u001b[0m in \u001b[0;36m<module>\u001b[1;34m\u001b[0m\n\u001b[1;32m----> 1\u001b[1;33m \u001b[0mdoc\u001b[0m\u001b[1;33m[\u001b[0m\u001b[1;36m0\u001b[0m\u001b[1;33m]\u001b[0m\u001b[1;33m\u001b[0m\u001b[1;33m\u001b[0m\u001b[0m\n\u001b[0m",
      "\u001b[1;31mKeyError\u001b[0m: 0"
     ]
    }
   ],
   "source": [
    "doc[0]"
   ]
  },
  {
   "cell_type": "code",
   "execution_count": 4,
   "id": "7e8395a7",
   "metadata": {},
   "outputs": [],
   "source": [
    "runs = 5"
   ]
  },
  {
   "cell_type": "code",
   "execution_count": 5,
   "id": "cbc0891d",
   "metadata": {},
   "outputs": [
    {
     "ename": "KeyError",
     "evalue": "0",
     "output_type": "error",
     "traceback": [
      "\u001b[1;31m---------------------------------------------------------------------------\u001b[0m",
      "\u001b[1;31mKeyError\u001b[0m                                  Traceback (most recent call last)",
      "\u001b[1;32m~\\AppData\\Local\\Temp\\ipykernel_17356\\1141216092.py\u001b[0m in \u001b[0;36m<module>\u001b[1;34m\u001b[0m\n\u001b[0;32m      1\u001b[0m \u001b[1;32mfor\u001b[0m \u001b[0myamlDoc\u001b[0m \u001b[1;32min\u001b[0m \u001b[0mrange\u001b[0m\u001b[1;33m(\u001b[0m\u001b[1;36m0\u001b[0m\u001b[1;33m,\u001b[0m \u001b[0mlen\u001b[0m\u001b[1;33m(\u001b[0m\u001b[0mdoc\u001b[0m\u001b[1;33m)\u001b[0m\u001b[1;33m)\u001b[0m\u001b[1;33m:\u001b[0m\u001b[1;33m\u001b[0m\u001b[1;33m\u001b[0m\u001b[0m\n\u001b[0;32m      2\u001b[0m     \u001b[1;32mfor\u001b[0m \u001b[0mnum\u001b[0m \u001b[1;32min\u001b[0m \u001b[0mrange\u001b[0m\u001b[1;33m(\u001b[0m\u001b[1;36m1\u001b[0m\u001b[1;33m,\u001b[0m\u001b[0mruns\u001b[0m\u001b[1;33m)\u001b[0m\u001b[1;33m:\u001b[0m\u001b[1;33m\u001b[0m\u001b[1;33m\u001b[0m\u001b[0m\n\u001b[1;32m----> 3\u001b[1;33m         \u001b[0mprint\u001b[0m\u001b[1;33m(\u001b[0m\u001b[1;34m\"run:\"\u001b[0m\u001b[1;33m,\u001b[0m\u001b[0mnum\u001b[0m\u001b[1;33m,\u001b[0m\u001b[1;34m\"doc:\"\u001b[0m\u001b[1;33m,\u001b[0m\u001b[0myamlDoc\u001b[0m\u001b[1;33m,\u001b[0m\u001b[1;34m\"-->\"\u001b[0m\u001b[1;33m,\u001b[0m\u001b[0mdoc\u001b[0m\u001b[1;33m[\u001b[0m\u001b[0myamlDoc\u001b[0m\u001b[1;33m]\u001b[0m\u001b[1;33m[\u001b[0m\u001b[1;34m\"arrivalRate\"\u001b[0m\u001b[1;33m]\u001b[0m\u001b[1;33m,\u001b[0m \u001b[0mdoc\u001b[0m\u001b[1;33m[\u001b[0m\u001b[0myamlDoc\u001b[0m\u001b[1;33m]\u001b[0m\u001b[1;33m[\u001b[0m\u001b[1;34m\"svcRate\"\u001b[0m\u001b[1;33m]\u001b[0m\u001b[1;33m)\u001b[0m\u001b[1;33m\u001b[0m\u001b[1;33m\u001b[0m\u001b[0m\n\u001b[0m",
      "\u001b[1;31mKeyError\u001b[0m: 0"
     ]
    }
   ],
   "source": [
    "for yamlDoc in range(0, len(doc)):\n",
    "    for num in range(1,runs):\n",
    "        print(\"run:\",num,\"doc:\",yamlDoc,\"-->\",doc[yamlDoc][\"arrivalRate\"], doc[yamlDoc][\"svcRate\"])"
   ]
  },
  {
   "cell_type": "code",
   "execution_count": 7,
   "id": "a15ebe5e",
   "metadata": {},
   "outputs": [
    {
     "name": "stdout",
     "output_type": "stream",
     "text": [
      "run: 0 --> 1 unif\n",
      "run: 1 --> 1 unif\n",
      "run: 2 --> 1 unif\n",
      "run: 3 --> 1 unif\n",
      "run: 4 --> 1 unif\n"
     ]
    }
   ],
   "source": [
    "for num in range(0,runs):\n",
    "    print(\"run:\",num,\"-->\",doc[\"arrivalRate\"], doc[\"svcRate\"])"
   ]
  },
  {
   "cell_type": "code",
   "execution_count": 10,
   "id": "1356dbf7",
   "metadata": {},
   "outputs": [],
   "source": [
    "def getSvcRate(svcRate, svcTime):\n",
    "    '''returns correct arrival rate formula to use based on svcRate[0] string'''\n",
    "    if svcRate == \"sexp\":\n",
    "        return svcTime*(1-(1/math.sqrt(3))) + math.sqrt(3)/svcTime\n",
    "    if svcRate == \"unif\":\n",
    "        return svcTime\n",
    "    if svcRate == \"tri\":\n",
    "        return 6*svcTime / (9 + math.sqrt(45))\n",
    "    if svcRate == \"exp\":\n",
    "        return 1/svcTime"
   ]
  },
  {
   "cell_type": "code",
   "execution_count": 14,
   "id": "a6eeae22",
   "metadata": {},
   "outputs": [
    {
     "data": {
      "text/plain": [
       "5.381966011250105"
      ]
     },
     "execution_count": 14,
     "metadata": {},
     "output_type": "execute_result"
    }
   ],
   "source": [
    "getSvcRate(\"tri\",1) + 5"
   ]
  },
  {
   "cell_type": "code",
   "execution_count": 278,
   "id": "88e2b11e",
   "metadata": {},
   "outputs": [
    {
     "data": {
      "image/png": "[encoded data removed]",
      "text/plain": [
       "<Figure size 432x288 with 1 Axes>"
      ]
     },
     "metadata": {
      "needs_background": "light"
     },
     "output_type": "display_data"
    }
   ],
   "source": [
    "gfg = np.random.pareto(50, 100)\n",
    "  \n",
    "plt.figure()\n",
    "plt.hist(gfg, bins = 50, density = True)\n",
    "plt.show()"
   ]
  },
  {
   "cell_type": "code",
   "execution_count": 279,
   "id": "7773e683",
   "metadata": {},
   "outputs": [
    {
     "data": {
      "text/plain": [
       "0.01992751538459227"
      ]
     },
     "execution_count": 279,
     "metadata": {},
     "output_type": "execute_result"
    }
   ],
   "source": [
    "np.average(gfg)"
   ]
  },
  {
   "cell_type": "code",
   "execution_count": 280,
   "id": "26306ada",
   "metadata": {},
   "outputs": [
    {
     "data": {
      "text/plain": [
       "0.01334721059162669"
      ]
     },
     "execution_count": 280,
     "metadata": {},
     "output_type": "execute_result"
    }
   ],
   "source": [
    "np.median(gfg)"
   ]
  },
  {
   "cell_type": "code",
   "execution_count": 2,
   "id": "a63f81b6",
   "metadata": {},
   "outputs": [],
   "source": [
    "class NamedQueue:\n",
    "    ctCancel = 0\n",
    "    \n",
    "    \n",
    "    def __init__(self, maxServers = 1, svcRate = 1, arrRate = None, \n",
    "                 next = None, prev = None, proficiency = 1, \n",
    "                 availability = 1, name = \"unknown\"):\n",
    "        if arrRate == None:\n",
    "            self.meanArrival = None\n",
    "        else:\n",
    "            self.meanArrival = 1.0 / arrRate\n",
    "        self.meanSvc = (1.0 / svcRate) + (1 - availability)*10\n",
    "        self.numAvailableServers = maxServers\n",
    "        self.queue = queue.Queue()\n",
    "        self.next = next\n",
    "        self.prev = prev\n",
    "        self.proficiency = proficiency\n",
    "        self.availability = availability\n",
    "        self.name = name\n",
    "        self.supportCancel = NamedQueue.ctCancel\n",
    "\n",
    "\n",
    "    def push(self, request):\n",
    "        self.queue.put(request)\n",
    "\n",
    "\n",
    "    def pop(self):\n",
    "        if self.queue.empty():\n",
    "            return None\n",
    "        else:\n",
    "            return self.queue.get()"
   ]
  },
  {
   "cell_type": "code",
   "execution_count": 3,
   "id": "a1144e87",
   "metadata": {},
   "outputs": [],
   "source": [
    "BdeS6Cema_Receive = NamedQueue(maxServers = 5, svcRate = 1.0, arrRate = 4.5, next = \"BdeS3_Receive\", proficiency = 0.6, name = \"BdeS6Cema_Receive\")\n"
   ]
  },
  {
   "cell_type": "code",
   "execution_count": 4,
   "id": "90dd63c1",
   "metadata": {},
   "outputs": [],
   "source": [
    "BdeS3_Receive=NamedQueue(maxServers = 5, svcRate = 1.5, next = \"DivS3_Receive\", prev = \"BdeS6Cema_Receive\", name = \"BdeS3_Receive\")"
   ]
  },
  {
   "cell_type": "code",
   "execution_count": 12,
   "id": "9cb0f1ab",
   "metadata": {},
   "outputs": [
    {
     "name": "stdout",
     "output_type": "stream",
     "text": [
      "BdeS6Cema_Receive\n"
     ]
    },
    {
     "data": {
      "text/plain": [
       "str"
      ]
     },
     "execution_count": 12,
     "metadata": {},
     "output_type": "execute_result"
    }
   ],
   "source": [
    "prevQ = BdeS3_Receive.prev\n",
    "print(prevQ)\n",
    "type(prevQ)"
   ]
  },
  {
   "cell_type": "code",
   "execution_count": 13,
   "id": "74859fa9",
   "metadata": {},
   "outputs": [],
   "source": [
    "x = eval(prevQ)"
   ]
  },
  {
   "cell_type": "code",
   "execution_count": 14,
   "id": "ea028939",
   "metadata": {},
   "outputs": [
    {
     "data": {
      "text/plain": [
       "0.6"
      ]
     },
     "execution_count": 14,
     "metadata": {},
     "output_type": "execute_result"
    }
   ],
   "source": [
    "x.proficiency"
   ]
  },
  {
   "cell_type": "code",
   "execution_count": 15,
   "id": "435aece8",
   "metadata": {},
   "outputs": [
    {
     "data": {
      "text/plain": [
       "__main__.NamedQueue"
      ]
     },
     "execution_count": 15,
     "metadata": {},
     "output_type": "execute_result"
    }
   ],
   "source": [
    "type(x)"
   ]
  },
  {
   "cell_type": "code",
   "execution_count": 8,
   "id": "118a5ec7",
   "metadata": {},
   "outputs": [
    {
     "data": {
      "text/plain": [
       "'BdeS3_Receive'"
      ]
     },
     "execution_count": 8,
     "metadata": {},
     "output_type": "execute_result"
    }
   ],
   "source": [
    "eval(BdeS6Cema_Receive.next).name\n",
    "\n",
    "                     \n"
   ]
  },
  {
   "cell_type": "code",
   "execution_count": 109,
   "id": "27faeb4c",
   "metadata": {},
   "outputs": [
    {
     "data": {
      "text/plain": [
       "0.8376950428907763"
      ]
     },
     "execution_count": 109,
     "metadata": {},
     "output_type": "execute_result"
    }
   ],
   "source": [
    "numpy.random.random()"
   ]
  },
  {
   "cell_type": "code",
   "execution_count": 117,
   "id": "9c2654aa",
   "metadata": {},
   "outputs": [
    {
     "data": {
      "text/plain": [
       "2"
      ]
     },
     "execution_count": 117,
     "metadata": {},
     "output_type": "execute_result"
    }
   ],
   "source": [
    "numpy.random.randint(1,5)"
   ]
  },
  {
   "cell_type": "code",
   "execution_count": 2,
   "id": "6389b2b0",
   "metadata": {},
   "outputs": [],
   "source": [
    "def sigmoid(x, k=0.1):\n",
    "    # sigmoid function\n",
    "    # use k to adjust learning curve slope\n",
    "    return 1/(1+numpy.exp(-x/k))"
   ]
  },
  {
   "cell_type": "code",
   "execution_count": 29,
   "id": "ceeabe00",
   "metadata": {},
   "outputs": [
    {
     "name": "stdout",
     "output_type": "stream",
     "text": [
      "0.9999999979388463\n"
     ]
    }
   ],
   "source": [
    "print(sigmoid(2))"
   ]
  },
  {
   "cell_type": "code",
   "execution_count": 51,
   "id": "54dab5ca",
   "metadata": {},
   "outputs": [],
   "source": []
  },
  {
   "cell_type": "code",
   "execution_count": 3,
   "id": "303331d8",
   "metadata": {},
   "outputs": [
    {
     "data": {
      "image/png": "[encoded data removed]",
      "text/plain": [
       "<Figure size 432x288 with 1 Axes>"
      ]
     },
     "metadata": {
      "needs_background": "light"
     },
     "output_type": "display_data"
    }
   ],
   "source": [
    "values = numpy.arange(-50, 50, 1)\n",
    "\n",
    "plt.plot(values, sigmoid(values, 1))\n",
    "plt.xlabel('x')\n",
    "plt.ylabel('sigmoid(x)')\n",
    "plt.title('Sigmoid Function in Matplotlib')\n",
    "plt.show()"
   ]
  },
  {
   "cell_type": "code",
   "execution_count": 69,
   "id": "152de0bb",
   "metadata": {},
   "outputs": [],
   "source": [
    "def get_discrete_cdf(values):\n",
    "    values = (values - numpy.min(values)) / (numpy.max(values) - numpy.min(values))    \n",
    "    \n",
    "    values_sort = numpy.sort(values)\n",
    "    values_sum = numpy.sum(values)\n",
    "    \n",
    "    values_sums = []\n",
    "    cur_sum = 0\n",
    "    for it in values_sort:\n",
    "        cur_sum += it\n",
    "        values_sums.append(cur_sum)\n",
    "\n",
    "    cdf = [values_sums[numpy.searchsorted(values_sort, it)]/values_sum for it in values]\n",
    "    return cdf"
   ]
  },
  {
   "cell_type": "code",
   "execution_count": 67,
   "id": "3c826ea3",
   "metadata": {
    "scrolled": true
   },
   "outputs": [
    {
     "data": {
      "image/png": "[encoded data removed]",
      "text/plain": [
       "<Figure size 432x288 with 1 Axes>"
      ]
     },
     "metadata": {
      "needs_background": "light"
     },
     "output_type": "display_data"
    }
   ],
   "source": [
    "rand_values = [numpy.random.logistic() for _ in range(100)]\n",
    "_ = plt.hist(rand_values, bins=20)\n",
    "_ = plt.xlabel(\"rand_values\")\n",
    "_ = plt.ylabel(\"nums\")"
   ]
  },
  {
   "cell_type": "code",
   "execution_count": 70,
   "id": "1640902a",
   "metadata": {
    "scrolled": true
   },
   "outputs": [
    {
     "data": {
      "image/png": "[encoded data removed]",
      "text/plain": [
       "<Figure size 432x288 with 1 Axes>"
      ]
     },
     "metadata": {
      "needs_background": "light"
     },
     "output_type": "display_data"
    }
   ],
   "source": [
    "cdf = get_discrete_cdf(rand_values)\n",
    "\n",
    "x_p = list(zip(rand_values, cdf))\n",
    "x_p.sort(key=lambda it: it[0])\n",
    "\n",
    "x = [it[0] for it in x_p]\n",
    "y = [it[1] for it in x_p]\n",
    "\n",
    "_ = plt.plot(x, y)\n",
    "_ = plt.xlabel(\"rand_values\")\n",
    "_ = plt.ylabel(\"prob\")"
   ]
  },
  {
   "cell_type": "code",
   "execution_count": 272,
   "id": "d1a0c6c6",
   "metadata": {},
   "outputs": [
    {
     "data": {
      "text/plain": [
       "0.9324552642693861"
      ]
     },
     "execution_count": 272,
     "metadata": {},
     "output_type": "execute_result"
    }
   ],
   "source": [
    "x[70]"
   ]
  },
  {
   "cell_type": "code",
   "execution_count": 273,
   "id": "c960e316",
   "metadata": {},
   "outputs": [
    {
     "data": {
      "text/plain": [
       "0.6056823958432668"
      ]
     },
     "execution_count": 273,
     "metadata": {},
     "output_type": "execute_result"
    }
   ],
   "source": [
    "y[70]"
   ]
  },
  {
   "cell_type": "code",
   "execution_count": 71,
   "id": "a28d1a87",
   "metadata": {},
   "outputs": [],
   "source": [
    "def getDiscreteCdf(values):\n",
    "    values = (values - numpy.min(values)) / (numpy.max(values) - numpy.min(values))    \n",
    "    values_sort = numpy.sort(values)\n",
    "    values_sum = numpy.sum(values)\n",
    "    values_sums = []\n",
    "    cur_sum = 0\n",
    "    for it in values_sort:\n",
    "        cur_sum += it\n",
    "        values_sums.append(cur_sum)\n",
    "    cdf = [values_sums[numpy.searchsorted(values_sort, it)]/values_sum for it in values]\n",
    "    return cdf"
   ]
  },
  {
   "cell_type": "code",
   "execution_count": 81,
   "id": "f3117a3a",
   "metadata": {},
   "outputs": [],
   "source": [
    "def getLearnCurve():\n",
    "    rand_values = [numpy.random.logistic() for _ in range(100)]\n",
    "    cdf = getDiscreteCdf(rand_values)\n",
    "    x_p = list(zip(rand_values, cdf))\n",
    "    x_p.sort(key=lambda it: it[0])\n",
    "    x = [it[0] for it in x_p]\n",
    "    y = [it[1] for it in x_p]\n",
    "    return [x,y]\n"
   ]
  },
  {
   "cell_type": "code",
   "execution_count": 87,
   "id": "825d93df",
   "metadata": {},
   "outputs": [],
   "source": [
    "xy = getLearnCurve()"
   ]
  },
  {
   "cell_type": "code",
   "execution_count": 9,
   "id": "7752aeb3",
   "metadata": {},
   "outputs": [
    {
     "data": {
      "text/plain": [
       "0.9753481325342014"
      ]
     },
     "execution_count": 9,
     "metadata": {},
     "output_type": "execute_result"
    }
   ],
   "source": [
    "xy[0][70]"
   ]
  },
  {
   "cell_type": "code",
   "execution_count": 10,
   "id": "bddf3cd7",
   "metadata": {},
   "outputs": [
    {
     "data": {
      "text/plain": [
       "0.6252038840501758"
      ]
     },
     "execution_count": 10,
     "metadata": {},
     "output_type": "execute_result"
    }
   ],
   "source": [
    "xy[1][70]"
   ]
  },
  {
   "cell_type": "code",
   "execution_count": 30,
   "id": "f3ed55d8",
   "metadata": {},
   "outputs": [
    {
     "data": {
      "text/plain": [
       "100"
      ]
     },
     "execution_count": 30,
     "metadata": {},
     "output_type": "execute_result"
    }
   ],
   "source": [
    "len(xy[0])"
   ]
  },
  {
   "cell_type": "code",
   "execution_count": 90,
   "id": "d0d388da",
   "metadata": {
    "scrolled": true
   },
   "outputs": [
    {
     "name": "stdout",
     "output_type": "stream",
     "text": [
      "-2.9205168070381036 0.04955889555776865\n",
      "-2.1347260523478613 0.12264657685255603\n",
      "-1.3367588589020605 0.20764107650563066\n",
      "-0.9132995403894251 0.30014678367852105\n",
      "-0.7264866154232118 0.3980336380163819\n",
      "-0.45011861763900823 0.4988948619043204\n",
      "0.19128783441981487 0.6080408372185337\n",
      "0.8625792291380585 0.7263933349657314\n",
      "1.4591048141081864 0.8549553625243909\n",
      "3.3426059439931053 1.0\n"
     ]
    }
   ],
   "source": [
    "print(xy[0][9], xy[1][9])\n",
    "print(xy[0][19], xy[1][19])\n",
    "print(xy[0][29], xy[1][29])\n",
    "print(xy[0][39], xy[1][39])\n",
    "print(xy[0][49], xy[1][49])\n",
    "print(xy[0][59], xy[1][59])\n",
    "print(xy[0][69], xy[1][69])\n",
    "print(xy[0][79], xy[1][79])\n",
    "print(xy[0][89], xy[1][89])\n",
    "print(xy[0][99], xy[1][99])"
   ]
  },
  {
   "cell_type": "code",
   "execution_count": 88,
   "id": "42a76d64",
   "metadata": {
    "scrolled": true
   },
   "outputs": [
    {
     "data": {
      "text/plain": [
       "[<matplotlib.lines.Line2D at 0x19b3ea9c910>]"
      ]
     },
     "execution_count": 88,
     "metadata": {},
     "output_type": "execute_result"
    },
    {
     "data": {
      "image/png": "[encoded data removed]",
      "text/plain": [
       "<Figure size 432x288 with 1 Axes>"
      ]
     },
     "metadata": {
      "needs_background": "light"
     },
     "output_type": "display_data"
    }
   ],
   "source": [
    "plt.plot(xy[0], xy[1])\n",
    "plt.plot(xy[0][9], xy[1][9],'ro')\n",
    "plt.plot(xy[0][19], xy[1][19],'ro')\n",
    "plt.plot(xy[0][29], xy[1][29],'ro')\n",
    "plt.plot(xy[0][39], xy[1][39],'ro')\n",
    "plt.plot(xy[0][49], xy[1][49],'ro')\n",
    "plt.plot(xy[0][59], xy[1][59],'ro')\n",
    "plt.plot(xy[0][69], xy[1][69],'ro')\n",
    "plt.plot(xy[0][79], xy[1][79],'ro')\n",
    "plt.plot(xy[0][89], xy[1][89],'ro')\n",
    "plt.plot(xy[0][99], xy[1][99],'ro')"
   ]
  },
  {
   "cell_type": "code",
   "execution_count": 46,
   "id": "0040c6eb",
   "metadata": {},
   "outputs": [
    {
     "data": {
      "text/plain": [
       "0.8308614413228906"
      ]
     },
     "execution_count": 46,
     "metadata": {},
     "output_type": "execute_result"
    }
   ],
   "source": [
    "xy[1][89]"
   ]
  },
  {
   "cell_type": "code",
   "execution_count": 254,
   "id": "c893aa74",
   "metadata": {},
   "outputs": [
    {
     "data": {
      "text/plain": [
       "(array([ 6.,  7., 14.,  9.,  8., 13., 14.,  9., 12.,  8.]),\n",
       " array([ 1.63378773,  3.43378773,  5.23378773,  7.03378773,  8.83378773,\n",
       "        10.63378773, 12.43378773, 14.23378773, 16.03378773, 17.83378773,\n",
       "        19.63378773]),\n",
       " <BarContainer object of 10 artists>)"
      ]
     },
     "execution_count": 254,
     "metadata": {},
     "output_type": "execute_result"
    },
    {
     "data": {
      "image/png": "[encoded data removed]",
      "text/plain": [
       "<Figure size 432x288 with 1 Axes>"
      ]
     },
     "metadata": {
      "needs_background": "light"
     },
     "output_type": "display_data"
    }
   ],
   "source": [
    "plt.hist(y[70] + numpy.random.randint(1,20, size=100))"
   ]
  },
  {
   "cell_type": "code",
   "execution_count": 261,
   "id": "31bd7172",
   "metadata": {},
   "outputs": [
    {
     "data": {
      "text/plain": [
       "[-4.141548478169534,\n",
       " -3.9635563508483886,\n",
       " -3.0607011922292506,\n",
       " -2.9475116466458684,\n",
       " -2.334003996141683,\n",
       " -2.3069304814843106,\n",
       " -2.2227746874516816,\n",
       " -2.119176264066186,\n",
       " -2.043296839333123,\n",
       " -2.0021123542326764,\n",
       " -1.9991342265831498,\n",
       " -1.9672189497773462,\n",
       " -1.9666103588541648,\n",
       " -1.8453211370059814,\n",
       " -1.7478815558201442,\n",
       " -1.7396990289724548,\n",
       " -1.4041300120269165,\n",
       " -1.3095751556734836,\n",
       " -1.2181383773643475,\n",
       " -1.1921086073203346,\n",
       " -1.186360307237796,\n",
       " -1.0975163960919305,\n",
       " -1.0412332993170605,\n",
       " -0.9893362046719929,\n",
       " -0.9616690218695695,\n",
       " -0.930920920191433,\n",
       " -0.9276683469237564,\n",
       " -0.9155495077125467,\n",
       " -0.8801400010911552,\n",
       " -0.8369159925497787,\n",
       " -0.6443579734118164,\n",
       " -0.5860333009481083,\n",
       " -0.5326380543209096,\n",
       " -0.41760964513999055,\n",
       " -0.37529244803760653,\n",
       " -0.3046873957476738,\n",
       " -0.2943077103317106,\n",
       " -0.2789288365540286,\n",
       " -0.27181234239143504,\n",
       " -0.2535667152023609,\n",
       " -0.23927018855114673,\n",
       " -0.23140888666782417,\n",
       " -0.19133351067069435,\n",
       " -0.17804949077552448,\n",
       " -0.15934243991166452,\n",
       " -0.13372923126420022,\n",
       " -0.10796580553800611,\n",
       " -0.10274091234714218,\n",
       " 0.043330492033562755,\n",
       " 0.05340839128008265,\n",
       " 0.07387971078313292,\n",
       " 0.15354014852251674,\n",
       " 0.17006781465220086,\n",
       " 0.1820367487877607,\n",
       " 0.3317102981913351,\n",
       " 0.38778987803873277,\n",
       " 0.4553609337826977,\n",
       " 0.5051742820207529,\n",
       " 0.5817246605572496,\n",
       " 0.69703607743874,\n",
       " 0.7664831403774057,\n",
       " 0.8008150175952509,\n",
       " 0.9408286304809049,\n",
       " 0.959195057200205,\n",
       " 1.0437353526699242,\n",
       " 1.0493747869423948,\n",
       " 1.0706894929752184,\n",
       " 1.1818056443496703,\n",
       " 1.1918157173712576,\n",
       " 1.2446146421300255,\n",
       " 1.248006256718794,\n",
       " 1.2536955997394643,\n",
       " 1.284060139031781,\n",
       " 1.329777424617503,\n",
       " 1.348212374711827,\n",
       " 1.416438276255984,\n",
       " 1.4489487825410177,\n",
       " 1.5745375222694733,\n",
       " 1.6088278056558782,\n",
       " 1.7186530016794728,\n",
       " 1.7293195244649708,\n",
       " 1.9540989095610897,\n",
       " 1.9556115465000605,\n",
       " 1.957290135207536,\n",
       " 2.019724252991133,\n",
       " 2.201921431571372,\n",
       " 2.286420644211815,\n",
       " 2.3072670031809888,\n",
       " 2.4109084426172323,\n",
       " 2.4918208086949023,\n",
       " 2.501958183966701,\n",
       " 2.62884672979958,\n",
       " 2.647280911291917,\n",
       " 2.7095602071279594,\n",
       " 2.9147301325411714,\n",
       " 2.9440526783664502,\n",
       " 2.968755755659932,\n",
       " 3.38598325892499,\n",
       " 3.466275021121586,\n",
       " 6.345108848058366]"
      ]
     },
     "execution_count": 261,
     "metadata": {},
     "output_type": "execute_result"
    }
   ],
   "source": [
    "x"
   ]
  },
  {
   "cell_type": "code",
   "execution_count": 271,
   "id": "b3876823",
   "metadata": {},
   "outputs": [],
   "source": [
    "learn = [(xy[0][70], xy[1][70])]"
   ]
  },
  {
   "cell_type": "code",
   "execution_count": 272,
   "id": "881fb81c",
   "metadata": {},
   "outputs": [],
   "source": [
    "learn.append((xy[0][75], xy[1][75]))\n",
    "learn.append((xy[0][80], xy[1][80]))\n",
    "learn.append((xy[0][85], xy[1][85]))\n",
    "learn.append((xy[0][90], xy[1][90]))"
   ]
  },
  {
   "cell_type": "code",
   "execution_count": 273,
   "id": "f7ceae06",
   "metadata": {},
   "outputs": [
    {
     "data": {
      "text/plain": [
       "[(0.8906796131494101, 0.6212973594612107),\n",
       " (0.9868867721914765, 0.6786129473356329),\n",
       " (1.1715786397614998, 0.7370358547589689),\n",
       " (1.7763076018064066, 0.7983611559047014),\n",
       " (2.826855453780786, 0.8671642738801846)]"
      ]
     },
     "execution_count": 273,
     "metadata": {},
     "output_type": "execute_result"
    }
   ],
   "source": [
    "learn"
   ]
  },
  {
   "cell_type": "code",
   "execution_count": 274,
   "id": "de915ea6",
   "metadata": {},
   "outputs": [
    {
     "data": {
      "text/plain": [
       "0.6786129473356329"
      ]
     },
     "execution_count": 274,
     "metadata": {},
     "output_type": "execute_result"
    }
   ],
   "source": [
    "p = min(learn[1])\n",
    "p"
   ]
  },
  {
   "cell_type": "code",
   "execution_count": 343,
   "id": "c7c5abcd",
   "metadata": {},
   "outputs": [
    {
     "ename": "SyntaxError",
     "evalue": "invalid syntax (4182276696.py, line 1)",
     "output_type": "error",
     "traceback": [
      "\u001b[1;36m  File \u001b[1;32m\"C:\\Users\\annac\\AppData\\Local\\Temp\\ipykernel_24672\\4182276696.py\"\u001b[1;36m, line \u001b[1;32m1\u001b[0m\n\u001b[1;33m    numpy.min(numpy.where(learn[,1] == p))\u001b[0m\n\u001b[1;37m                                ^\u001b[0m\n\u001b[1;31mSyntaxError\u001b[0m\u001b[1;31m:\u001b[0m invalid syntax\n"
     ]
    }
   ],
   "source": [
    "numpy.min(numpy.where(learn[,1] == p))"
   ]
  },
  {
   "cell_type": "code",
   "execution_count": null,
   "id": "610c862a",
   "metadata": {},
   "outputs": [],
   "source": []
  },
  {
   "cell_type": "code",
   "execution_count": null,
   "id": "232fe091",
   "metadata": {},
   "outputs": [],
   "source": []
  },
  {
   "cell_type": "code",
   "execution_count": 294,
   "id": "d09d1746",
   "metadata": {},
   "outputs": [
    {
     "data": {
      "text/plain": [
       "1.827772145349107"
      ]
     },
     "execution_count": 294,
     "metadata": {},
     "output_type": "execute_result"
    }
   ],
   "source": [
    "learn[-1][-2]"
   ]
  },
  {
   "cell_type": "code",
   "execution_count": 259,
   "id": "2a724e8a",
   "metadata": {},
   "outputs": [
    {
     "ename": "NameError",
     "evalue": "name 'learn' is not defined",
     "output_type": "error",
     "traceback": [
      "\u001b[1;31m---------------------------------------------------------------------------\u001b[0m",
      "\u001b[1;31mNameError\u001b[0m                                 Traceback (most recent call last)",
      "\u001b[1;32m~\\AppData\\Local\\Temp\\ipykernel_29940\\1800897461.py\u001b[0m in \u001b[0;36m<module>\u001b[1;34m\u001b[0m\n\u001b[1;32m----> 1\u001b[1;33m \u001b[0mlearn\u001b[0m\u001b[1;33m\u001b[0m\u001b[1;33m\u001b[0m\u001b[0m\n\u001b[0m",
      "\u001b[1;31mNameError\u001b[0m: name 'learn' is not defined"
     ]
    }
   ],
   "source": [
    "learn"
   ]
  },
  {
   "cell_type": "code",
   "execution_count": 391,
   "id": "64ef2c34",
   "metadata": {},
   "outputs": [
    {
     "data": {
      "text/plain": [
       "list"
      ]
     },
     "execution_count": 391,
     "metadata": {},
     "output_type": "execute_result"
    }
   ],
   "source": [
    "type(learn)"
   ]
  },
  {
   "cell_type": "code",
   "execution_count": 288,
   "id": "abb0e081",
   "metadata": {},
   "outputs": [
    {
     "data": {
      "text/plain": [
       "0.5961615620715827"
      ]
     },
     "execution_count": 288,
     "metadata": {},
     "output_type": "execute_result"
    }
   ],
   "source": [
    "learn[0][1]"
   ]
  },
  {
   "cell_type": "code",
   "execution_count": 314,
   "id": "b3403686",
   "metadata": {},
   "outputs": [],
   "source": [
    "def getLearnRate(list):\n",
    "    ''' This function returns the difference in the y-values of the first\n",
    "    and last tuple in the array divided by the difference in the x-values of\n",
    "    the first and last tuple in the array.\n",
    "    Ex: y1-y0 / x1-x0'''\n",
    "    if len(list) == 1:\n",
    "        return 0\n",
    "    else:\n",
    "        return (list[0][1] - list[-1][-1]) / (list[0][0] - list[-1][-2])"
   ]
  },
  {
   "cell_type": "code",
   "execution_count": 315,
   "id": "5accef9a",
   "metadata": {},
   "outputs": [
    {
     "data": {
      "text/plain": [
       "0.2166959297322527"
      ]
     },
     "execution_count": 315,
     "metadata": {},
     "output_type": "execute_result"
    }
   ],
   "source": [
    "getLearnRate(learn)"
   ]
  },
  {
   "cell_type": "code",
   "execution_count": 395,
   "id": "fa496f76",
   "metadata": {
    "scrolled": true
   },
   "outputs": [
    {
     "data": {
      "text/plain": [
       "1"
      ]
     },
     "execution_count": 395,
     "metadata": {},
     "output_type": "execute_result"
    }
   ],
   "source": [
    "learn2 = [(xy[0][70], xy[1][70])]\n",
    "len(learn2)"
   ]
  },
  {
   "cell_type": "code",
   "execution_count": 398,
   "id": "f2619824",
   "metadata": {},
   "outputs": [
    {
     "data": {
      "text/plain": [
       "0.5961615620715827"
      ]
     },
     "execution_count": 398,
     "metadata": {},
     "output_type": "execute_result"
    }
   ],
   "source": [
    "learn2[0][1]"
   ]
  },
  {
   "cell_type": "code",
   "execution_count": 392,
   "id": "8283931c",
   "metadata": {},
   "outputs": [
    {
     "data": {
      "text/plain": [
       "tuple"
      ]
     },
     "execution_count": 392,
     "metadata": {},
     "output_type": "execute_result"
    }
   ],
   "source": [
    "type(learn2)"
   ]
  },
  {
   "cell_type": "code",
   "execution_count": 394,
   "id": "86a01d7a",
   "metadata": {},
   "outputs": [
    {
     "data": {
      "text/plain": [
       "(0.6748731140235449, 0.5961615620715827)"
      ]
     },
     "execution_count": 394,
     "metadata": {},
     "output_type": "execute_result"
    }
   ],
   "source": [
    "learn2"
   ]
  },
  {
   "cell_type": "code",
   "execution_count": 319,
   "id": "52049029",
   "metadata": {},
   "outputs": [],
   "source": [
    "def setupQ():\n",
    "    return numpy.random.randint(1,100), getLearnCurve()"
   ]
  },
  {
   "cell_type": "code",
   "execution_count": 320,
   "id": "96c1a7b6",
   "metadata": {},
   "outputs": [],
   "source": [
    "i, learn = setupQ()"
   ]
  },
  {
   "cell_type": "code",
   "execution_count": 386,
   "id": "1cbbeb7e",
   "metadata": {},
   "outputs": [
    {
     "data": {
      "text/plain": [
       "(0.9416493929407044, 0.6551127602263174)"
      ]
     },
     "execution_count": 386,
     "metadata": {},
     "output_type": "execute_result"
    }
   ],
   "source": [
    "learn[1]"
   ]
  },
  {
   "cell_type": "code",
   "execution_count": 322,
   "id": "defd0df9",
   "metadata": {},
   "outputs": [
    {
     "data": {
      "text/plain": [
       "[[-5.181177556469521,\n",
       "  -3.9674785266413957,\n",
       "  -3.393783297950497,\n",
       "  -2.2777271298226998,\n",
       "  -2.2467974153052173,\n",
       "  -2.2357762072079215,\n",
       "  -2.195600310930999,\n",
       "  -2.183453926422259,\n",
       "  -2.0680908168355328,\n",
       "  -1.9487452275271708,\n",
       "  -1.9253671387574673,\n",
       "  -1.869274032793559,\n",
       "  -1.659671591989096,\n",
       "  -1.527807407509318,\n",
       "  -1.4043024667962658,\n",
       "  -1.390574078044166,\n",
       "  -1.3371165192676544,\n",
       "  -1.32992327093484,\n",
       "  -1.2612828776669525,\n",
       "  -1.1672867596832288,\n",
       "  -1.1325901294157952,\n",
       "  -1.115017757614518,\n",
       "  -1.017774738478044,\n",
       "  -0.9719763270503238,\n",
       "  -0.8843321454954601,\n",
       "  -0.8698702145846788,\n",
       "  -0.8442944599460859,\n",
       "  -0.8366574044455857,\n",
       "  -0.7925667465395896,\n",
       "  -0.7478523530137845,\n",
       "  -0.7464498145467426,\n",
       "  -0.7377334873889326,\n",
       "  -0.7252746608025793,\n",
       "  -0.7214828148137546,\n",
       "  -0.6763622176294505,\n",
       "  -0.6714881081232722,\n",
       "  -0.5722612731466502,\n",
       "  -0.556652468299003,\n",
       "  -0.4467479358901597,\n",
       "  -0.35781227708628766,\n",
       "  -0.30574892831650263,\n",
       "  -0.22225396658513083,\n",
       "  -0.21454038369851489,\n",
       "  -0.21196694822545548,\n",
       "  -0.19802310278151006,\n",
       "  -0.188241578620132,\n",
       "  -0.11105820221227783,\n",
       "  -0.08940577599860425,\n",
       "  -0.07510822450843506,\n",
       "  -0.07360569321149583,\n",
       "  -0.06310009936036416,\n",
       "  0.0017379491289570466,\n",
       "  0.024517377181960866,\n",
       "  0.06675583477014964,\n",
       "  0.07428197675310186,\n",
       "  0.0983186338012133,\n",
       "  0.10595549639330333,\n",
       "  0.13083898211569644,\n",
       "  0.20278509640295544,\n",
       "  0.21040473172085894,\n",
       "  0.22960750766288968,\n",
       "  0.23175644712365673,\n",
       "  0.29593427587333565,\n",
       "  0.35273399864300925,\n",
       "  0.38061576093340765,\n",
       "  0.48544912524362865,\n",
       "  0.49247089007509826,\n",
       "  0.515250172164257,\n",
       "  0.549740416483191,\n",
       "  0.5542668459214748,\n",
       "  0.7901514501024423,\n",
       "  0.8042622436128462,\n",
       "  0.8085686641056141,\n",
       "  0.8402498666170475,\n",
       "  0.9555599388477952,\n",
       "  0.9738096795889625,\n",
       "  1.0136002495453105,\n",
       "  1.0645471581642736,\n",
       "  1.2176409426751307,\n",
       "  1.2614439916274942,\n",
       "  1.366316488507566,\n",
       "  1.3832737802458603,\n",
       "  1.490671827639267,\n",
       "  1.492087058317797,\n",
       "  1.5205640316017686,\n",
       "  1.7038847260945649,\n",
       "  1.7301205347866264,\n",
       "  1.7306356835485026,\n",
       "  1.8100694191120863,\n",
       "  1.9262648406566314,\n",
       "  2.0636651887019086,\n",
       "  2.0954181522172015,\n",
       "  2.1193433415512137,\n",
       "  2.1912004003382672,\n",
       "  2.3952291334787725,\n",
       "  2.8205650776951647,\n",
       "  2.8935343142597305,\n",
       "  3.634224229717247,\n",
       "  4.384359782695867,\n",
       "  5.157018491477728],\n",
       " [0.0,\n",
       "  0.002338488848985955,\n",
       "  0.00578234225873958,\n",
       "  0.011376551596831092,\n",
       "  0.017030354615665426,\n",
       "  0.022705392694926173,\n",
       "  0.02845783949177888,\n",
       "  0.03423368927737189,\n",
       "  0.040231814387178606,\n",
       "  0.04645988804511325,\n",
       "  0.05273300532469956,\n",
       "  0.059114199730144784,\n",
       "  0.06589924464423785,\n",
       "  0.07293835825032802,\n",
       "  0.08021543441513676,\n",
       "  0.08751896168785803,\n",
       "  0.09492548805839565,\n",
       "  0.10234587398604,\n",
       "  0.10989851246584277,\n",
       "  0.11763225752013462,\n",
       "  0.12543285414222355,\n",
       "  0.13326730824833247,\n",
       "  0.1412891248803261,\n",
       "  0.14939918338431013,\n",
       "  0.15767810989939704,\n",
       "  0.1659849008712714,\n",
       "  0.17434096980708655,\n",
       "  0.18271175340336365,\n",
       "  0.19116748846563333,\n",
       "  0.19970937677354256,\n",
       "  0.20825396741579075,\n",
       "  0.21681535220004752,\n",
       "  0.2254007419693357,\n",
       "  0.2339934376598976,\n",
       "  0.24267306924707138,\n",
       "  0.2513620920016177,\n",
       "  0.26024229958980916,\n",
       "  0.2691525813687062,\n",
       "  0.27827462118413016,\n",
       "  0.2875680173583209,\n",
       "  0.29696172634281043,\n",
       "  0.3065163088487882,\n",
       "  0.3160857534640063,\n",
       "  0.3256601564338159,\n",
       "  0.3352614256416972,\n",
       "  0.34488154135486127,\n",
       "  0.3546503697724282,\n",
       "  0.364460916899502,\n",
       "  0.37429901176609437,\n",
       "  0.38414000162773637,\n",
       "  0.3940012330925016,\n",
       "  0.4039873909596582,\n",
       "  0.41401743898177007,\n",
       "  0.42412886975169733,\n",
       "  0.4342548014799928,\n",
       "  0.4444270457232466,\n",
       "  0.45461400425527715,\n",
       "  0.4648489069253976,\n",
       "  0.4752224314299711,\n",
       "  0.4856106370307524,\n",
       "  0.49603584148899876,\n",
       "  0.5064651864061583,\n",
       "  0.5170181856504575,\n",
       "  0.5276806234911945,\n",
       "  0.5383967823851776,\n",
       "  0.5493149284666069,\n",
       "  0.56024660370012,\n",
       "  0.5712221688073534,\n",
       "  0.5822641878292364,\n",
       "  0.5933149281275703,\n",
       "  0.6048201579681777,\n",
       "  0.616352575713252,\n",
       "  0.6278932908335848,\n",
       "  0.6394950475605884,\n",
       "  0.6513189774223317,\n",
       "  0.663178069885487,\n",
       "  0.6751138286405738,\n",
       "  0.6871477491101942,\n",
       "  0.6994766423029767,\n",
       "  0.7118899328125646,\n",
       "  0.724505285908092,\n",
       "  0.7371533113850456,\n",
       "  0.7500082655404111,\n",
       "  0.762865946484774,\n",
       "  0.7757784953023416,\n",
       "  0.7890442563985088,\n",
       "  0.8023605672146336,\n",
       "  0.8156778705911919,\n",
       "  0.8291482225409826,\n",
       "  0.8428424534681039,\n",
       "  0.8568014198641135,\n",
       "  0.8708215661319675,\n",
       "  0.8848878101448906,\n",
       "  0.8990925044050041,\n",
       "  0.9136903100589607,\n",
       "  0.9291076297260115,\n",
       "  0.9446655425235103,\n",
       "  0.9616505761024264,\n",
       "  0.9800809298000518,\n",
       "  0.9999999999999999]]"
      ]
     },
     "execution_count": 322,
     "metadata": {},
     "output_type": "execute_result"
    }
   ],
   "source": [
    "learn"
   ]
  },
  {
   "cell_type": "code",
   "execution_count": 3,
   "id": "e6e75ca2",
   "metadata": {},
   "outputs": [
    {
     "data": {
      "text/plain": [
       "1"
      ]
     },
     "execution_count": 3,
     "metadata": {},
     "output_type": "execute_result"
    }
   ],
   "source": [
    "x = min(1,5)\n",
    "x"
   ]
  },
  {
   "cell_type": "code",
   "execution_count": 16,
   "id": "1eff7119",
   "metadata": {},
   "outputs": [],
   "source": [
    "norms = numpy.random.normal(30,7,1000)"
   ]
  },
  {
   "cell_type": "code",
   "execution_count": 17,
   "id": "27e9b911",
   "metadata": {},
   "outputs": [
    {
     "data": {
      "image/png": "[encoded data removed]",
      "text/plain": [
       "<Figure size 432x288 with 1 Axes>"
      ]
     },
     "metadata": {
      "needs_background": "light"
     },
     "output_type": "display_data"
    }
   ],
   "source": [
    "plt.figure()\n",
    "plt.hist(norms)\n",
    "plt.show()"
   ]
  },
  {
   "cell_type": "code",
   "execution_count": 18,
   "id": "f035c5da",
   "metadata": {},
   "outputs": [
    {
     "data": {
      "text/plain": [
       "array([False, False, False, False, False, False, False, False, False,\n",
       "       False, False, False, False, False, False, False, False, False,\n",
       "       False, False, False, False, False, False, False, False, False,\n",
       "       False, False, False, False, False, False, False, False, False,\n",
       "       False, False, False, False, False, False, False, False, False,\n",
       "       False, False, False, False, False, False, False, False, False,\n",
       "       False, False, False, False, False, False, False, False, False,\n",
       "       False, False, False, False, False, False, False, False, False,\n",
       "       False, False, False, False, False, False, False, False, False,\n",
       "       False, False, False, False, False, False, False, False, False,\n",
       "       False, False, False, False, False, False, False, False, False,\n",
       "       False, False, False, False, False, False, False, False, False,\n",
       "       False, False, False, False, False, False, False, False, False,\n",
       "       False, False, False, False, False, False, False, False, False,\n",
       "       False, False, False, False, False, False, False, False, False,\n",
       "       False, False, False, False, False, False, False, False, False,\n",
       "       False, False, False, False, False, False, False, False, False,\n",
       "       False, False, False, False, False, False, False, False, False,\n",
       "       False, False, False, False, False, False, False, False, False,\n",
       "       False, False, False, False, False, False, False, False, False,\n",
       "       False, False, False, False, False, False, False, False, False,\n",
       "       False, False, False, False, False, False, False, False, False,\n",
       "       False, False, False, False, False, False, False, False, False,\n",
       "       False, False, False, False, False, False, False, False, False,\n",
       "       False, False, False, False, False, False, False, False, False,\n",
       "       False, False, False, False, False, False, False, False, False,\n",
       "       False, False, False, False, False, False, False, False, False,\n",
       "       False, False, False, False, False, False, False, False, False,\n",
       "       False, False, False, False, False, False, False, False, False,\n",
       "       False, False, False, False, False, False, False, False, False,\n",
       "       False, False, False, False, False, False, False, False, False,\n",
       "       False, False, False, False, False, False, False, False, False,\n",
       "       False, False, False, False, False, False, False, False, False,\n",
       "       False, False, False, False, False, False, False, False, False,\n",
       "       False, False, False, False, False, False, False, False, False,\n",
       "       False, False, False, False, False, False, False, False, False,\n",
       "       False, False, False, False, False, False, False, False, False,\n",
       "       False, False, False, False, False, False, False, False, False,\n",
       "       False, False, False, False, False, False, False, False, False,\n",
       "       False, False, False, False, False, False, False, False, False,\n",
       "       False, False, False, False, False, False, False, False, False,\n",
       "       False, False, False, False, False, False, False, False, False,\n",
       "       False, False, False, False, False, False, False, False, False,\n",
       "       False, False, False, False, False, False, False, False, False,\n",
       "       False, False, False, False, False, False, False, False, False,\n",
       "       False, False, False, False, False, False, False, False, False,\n",
       "       False, False, False, False, False, False, False, False, False,\n",
       "       False, False, False, False, False, False, False, False, False,\n",
       "       False, False, False, False, False, False, False, False, False,\n",
       "       False, False, False, False, False, False, False, False, False,\n",
       "       False, False, False, False, False, False, False, False, False,\n",
       "       False, False, False, False, False, False, False, False, False,\n",
       "       False, False, False, False, False, False, False, False, False,\n",
       "       False, False, False, False, False, False, False, False, False,\n",
       "       False, False, False, False, False, False, False, False, False,\n",
       "       False, False, False, False, False, False, False, False, False,\n",
       "       False, False, False, False, False, False, False, False, False,\n",
       "       False, False, False, False, False, False, False, False, False,\n",
       "       False, False, False, False, False, False, False, False, False,\n",
       "       False, False, False, False, False, False, False, False, False,\n",
       "       False, False, False, False, False, False, False, False, False,\n",
       "       False, False, False, False, False, False, False, False, False,\n",
       "       False, False, False, False, False, False, False, False, False,\n",
       "       False, False, False, False, False, False, False, False, False,\n",
       "       False, False, False, False, False, False, False, False, False,\n",
       "       False, False, False, False, False, False, False, False, False,\n",
       "       False, False, False, False, False, False, False, False, False,\n",
       "       False, False, False, False, False, False, False, False, False,\n",
       "       False, False, False, False, False, False, False, False, False,\n",
       "       False, False, False, False, False, False, False, False, False,\n",
       "       False, False, False, False, False, False, False, False, False,\n",
       "       False, False, False, False, False, False, False, False, False,\n",
       "       False, False, False, False, False, False, False, False, False,\n",
       "       False, False, False, False, False, False, False, False, False,\n",
       "       False, False, False, False, False, False, False, False, False,\n",
       "       False, False, False, False, False, False, False, False, False,\n",
       "       False, False, False, False, False, False, False, False, False,\n",
       "       False, False, False, False, False, False, False, False, False,\n",
       "       False, False, False, False, False, False, False, False, False,\n",
       "       False, False, False, False, False, False, False, False, False,\n",
       "       False, False, False, False, False, False, False, False, False,\n",
       "       False, False, False, False, False, False, False, False, False,\n",
       "       False, False, False, False, False, False, False, False, False,\n",
       "       False, False, False, False, False, False, False, False, False,\n",
       "       False, False, False, False, False, False, False, False, False,\n",
       "       False, False, False, False, False, False, False, False, False,\n",
       "       False, False, False, False, False, False, False, False, False,\n",
       "       False, False, False, False, False, False, False, False, False,\n",
       "       False, False, False, False, False, False, False, False, False,\n",
       "       False, False, False, False, False, False, False, False, False,\n",
       "       False, False, False, False, False, False, False, False, False,\n",
       "       False, False, False, False, False, False, False, False, False,\n",
       "       False, False, False, False, False, False, False, False, False,\n",
       "       False, False, False, False, False, False, False, False, False,\n",
       "       False, False, False, False, False, False, False, False, False,\n",
       "       False, False, False, False, False, False, False, False, False,\n",
       "       False, False, False, False, False, False, False, False, False,\n",
       "       False, False, False, False, False, False, False, False, False,\n",
       "       False, False, False, False, False, False, False, False, False,\n",
       "       False, False, False, False, False, False, False, False, False,\n",
       "       False, False, False, False, False, False, False, False, False,\n",
       "       False, False, False, False, False, False, False, False, False,\n",
       "       False, False, False, False, False, False, False, False, False,\n",
       "       False, False, False, False, False, False, False, False, False,\n",
       "       False, False, False, False, False, False, False, False, False,\n",
       "       False, False, False, False, False, False, False, False, False,\n",
       "       False, False, False, False, False, False, False, False, False,\n",
       "       False, False, False, False, False, False, False, False, False,\n",
       "       False, False, False, False, False, False, False, False, False,\n",
       "       False, False, False, False, False, False, False, False, False,\n",
       "       False, False, False, False, False, False, False, False, False,\n",
       "       False])"
      ]
     },
     "execution_count": 18,
     "metadata": {},
     "output_type": "execute_result"
    }
   ],
   "source": [
    "norms < 0"
   ]
  },
  {
   "cell_type": "code",
   "execution_count": 4,
   "id": "03f2e9b4",
   "metadata": {
    "scrolled": true
   },
   "outputs": [
    {
     "data": {
      "text/plain": [
       "0.05640303415828901"
      ]
     },
     "execution_count": 4,
     "metadata": {},
     "output_type": "execute_result"
    }
   ],
   "source": [
    "numpy.random.exponential(math.sqrt(3)/6)"
   ]
  },
  {
   "cell_type": "code",
   "execution_count": 17,
   "id": "f6b1cd43",
   "metadata": {},
   "outputs": [],
   "source": [
    "numpy.random.triangular?"
   ]
  },
  {
   "cell_type": "code",
   "execution_count": null,
   "id": "9b8652f9",
   "metadata": {},
   "outputs": [],
   "source": [
    "myD = {}\n",
    "myD[\"BdeS6Cema\"] = 0.75\n",
    "myD[\"BdeS3\"] = 0.50\n",
    "myD[\"DivG3\"] = 0.25"
   ]
  },
  {
   "cell_type": "code",
   "execution_count": 46,
   "id": "565078ae",
   "metadata": {
    "scrolled": true
   },
   "outputs": [
    {
     "data": {
      "text/plain": [
       "[0.75, 0.5, 0.25]"
      ]
     },
     "execution_count": 46,
     "metadata": {},
     "output_type": "execute_result"
    }
   ],
   "source": [
    "[*myD.values()]"
   ]
  },
  {
   "cell_type": "code",
   "execution_count": 30,
   "id": "afdca08a",
   "metadata": {},
   "outputs": [
    {
     "data": {
      "text/plain": [
       "['BdeS6Cema', 'BdeS3', 'DivG3']"
      ]
     },
     "execution_count": 30,
     "metadata": {},
     "output_type": "execute_result"
    }
   ],
   "source": [
    "keys = [*myD]\n",
    "keys"
   ]
  },
  {
   "cell_type": "code",
   "execution_count": 31,
   "id": "693c1ffc",
   "metadata": {},
   "outputs": [
    {
     "data": {
      "text/plain": [
       "list"
      ]
     },
     "execution_count": 31,
     "metadata": {},
     "output_type": "execute_result"
    }
   ],
   "source": [
    "type(keys)"
   ]
  },
  {
   "cell_type": "code",
   "execution_count": 38,
   "id": "a5933888",
   "metadata": {},
   "outputs": [
    {
     "data": {
      "text/plain": [
       "[0.5, 0.5]"
      ]
     },
     "execution_count": 38,
     "metadata": {},
     "output_type": "execute_result"
    }
   ],
   "source": [
    "[sum(myD.values()) / len(myD.values()), sum(myD.values()) / len(myD.values())]"
   ]
  },
  {
   "cell_type": "code",
   "execution_count": 4,
   "id": "c010117e",
   "metadata": {},
   "outputs": [],
   "source": [
    "def setupOutput():\n",
    "    ''' returns dictonary for output state variables'''\n",
    "    outputDict = {}\n",
    "    outputDict[\"BdeS6Cema_Receive\"] = 0   \n",
    "    outputDict[\"BdeS3_Receive\"] = 0\n",
    "    outputDict[\"DivG3_Receive\"] = 0\n",
    "    outputDict[\"CorpsG3_Receive\"] = 0\n",
    "    outputDict[\"JTFHQ_Receive\"] = 0\n",
    "    outputDict[\"COIPE_Receive\"] = 0\n",
    "    outputDict[\"JFHQC_Receive\"] = 0\n",
    "    outputDict[\"USCYBERCOM_Receive\"] = 0\n",
    "    outputDict[\"ARCYBER_Approved\"] = 0\n",
    "    outputDict[\"JTFtask_Approved\"] = 0\n",
    "    outputDict[\"CorpsG3_Approved\"] = 0\n",
    "    outputDict[\"DivG3_Approved\"] = 0\n",
    "    outputDict[\"BdeS3_Approved\"] = 0\n",
    "    outputDict[\"BdeS6Cema_Approved\"] = 0\n",
    "    return outputDict\n",
    "\n"
   ]
  },
  {
   "cell_type": "code",
   "execution_count": 5,
   "id": "fc5106c4",
   "metadata": {},
   "outputs": [
    {
     "data": {
      "text/plain": [
       "{'BdeS6Cema_Receive': 0,\n",
       " 'BdeS3_Receive': 0,\n",
       " 'DivG3_Receive': 0,\n",
       " 'CorpsG3_Receive': 0,\n",
       " 'JTFHQ_Receive': 0,\n",
       " 'COIPE_Receive': 0,\n",
       " 'JFHQC_Receive': 0,\n",
       " 'USCYBERCOM_Receive': 0,\n",
       " 'ARCYBER_Approved': 0,\n",
       " 'JTFtask_Approved': 0,\n",
       " 'CorpsG3_Approved': 0,\n",
       " 'DivG3_Approved': 0,\n",
       " 'BdeS3_Approved': 0,\n",
       " 'BdeS6Cema_Approved': 0}"
      ]
     },
     "execution_count": 5,
     "metadata": {},
     "output_type": "execute_result"
    }
   ],
   "source": [
    "list2 = setupOutput()\n",
    "name = 'BdeS6Cema_Receive'\n",
    "list2"
   ]
  },
  {
   "cell_type": "code",
   "execution_count": 7,
   "id": "8c43563b",
   "metadata": {
    "scrolled": true
   },
   "outputs": [
    {
     "name": "stdout",
     "output_type": "stream",
     "text": [
      "dict_values([0, 0, 0, 0, 0, 0, 0, 0, 0, 0, 0, 0, 0, 0])\n",
      "dict_values([0, 0, 0, 0, 0, 0, 0, 0, 0, 0, 0, 0, 0, 0])\n",
      "dict_values([0, 0, 0, 0, 0, 0, 0, 0, 0, 0, 0, 0, 0, 0])\n",
      "dict_values([0, 0, 0, 0, 0, 0, 0, 0, 0, 0, 0, 0, 0, 0])\n",
      "dict_values([0, 0, 0, 0, 0, 0, 0, 0, 0, 0, 0, 0, 0, 0])\n",
      "dict_values([0, 0, 0, 0, 0, 0, 0, 0, 0, 0, 0, 0, 0, 0])\n",
      "dict_values([0, 0, 0, 0, 0, 0, 0, 0, 0, 0, 0, 0, 0, 0])\n",
      "dict_values([0, 0, 0, 0, 0, 0, 0, 0, 0, 0, 0, 0, 0, 0])\n",
      "dict_values([0, 0, 0, 0, 0, 0, 0, 0, 0, 0, 0, 0, 0, 0])\n",
      "dict_values([0, 0, 0, 0, 0, 0, 0, 0, 0, 0, 0, 0, 0, 0])\n",
      "dict_values([0, 0, 0, 0, 0, 0, 0, 0, 0, 0, 0, 0, 0, 0])\n",
      "dict_values([0, 0, 0, 0, 0, 0, 0, 0, 0, 0, 0, 0, 0, 0])\n",
      "dict_values([0, 0, 0, 0, 0, 0, 0, 0, 0, 0, 0, 0, 0, 0])\n",
      "dict_values([0, 0, 0, 0, 0, 0, 0, 0, 0, 0, 0, 0, 0, 0])\n"
     ]
    }
   ],
   "source": [
    "for name in list2:\n",
    "    print(list2.values())"
   ]
  },
  {
   "cell_type": "code",
   "execution_count": 2,
   "id": "6d4ed3cf",
   "metadata": {},
   "outputs": [
    {
     "name": "stdout",
     "output_type": "stream",
     "text": [
      "### DP 1\n",
      "- arrivalRate: !!float 2.0\n",
      "  svcDist: sexp\n",
      "  meanSvc: 1.756\n",
      "  maxServers: !!int 1\n",
      "  availability: !!float 0.82\n",
      "  retainRate: !!float 0.66\n",
      "  incrementMin: !!int 14\n",
      "  incrementRange: !!int 24\n",
      "\n",
      "### DP 2\n",
      "- arrivalRate: !!float 1.826\n",
      "  svcDist: exp\n",
      "  meanSvc: 0.51\n",
      "  maxServers: !!int 2\n",
      "  availability: !!float 0.55\n",
      "  retainRate: !!float 0.37\n",
      "  incrementMin: !!int 15\n",
      "  incrementRange: !!int 16\n",
      "\n",
      "### DP 3\n",
      "- arrivalRate: !!float 1.768\n",
      "  svcDist: tri\n",
      "  meanSvc: 3.626\n",
      "  maxServers: !!int 1\n",
      "  availability: !!float 0.27\n",
      "  retainRate: !!float 0.64\n",
      "  incrementMin: !!int 14\n",
      "  incrementRange: !!int 3\n",
      "\n",
      "### DP 4\n",
      "- arrivalRate: !!float 1.188\n",
      "  svcDist: exp\n",
      "  meanSvc: 4.0\n",
      "  maxServers: !!int 2\n",
      "  availability: !!float 0.86\n",
      "  retainRate: !!float 0.35\n",
      "  incrementMin: !!int 16\n",
      "  incrementRange: !!int 4\n",
      "\n",
      "### DP 5\n",
      "- arrivalRate: !!float 1.884\n",
      "  svcDist: sexp\n",
      "  meanSvc: 1.881\n",
      "  maxServers: !!int 1\n",
      "  availability: !!float 0.7\n",
      "  retainRate: !!float 0.72\n",
      "  incrementMin: !!int 8\n",
      "  incrementRange: !!int 29\n",
      "\n",
      "### DP 6\n",
      "- arrivalRate: !!float 1.942\n",
      "  svcDist: exp\n",
      "  meanSvc: 1.258\n",
      "  maxServers: !!int 2\n",
      "  availability: !!float 0.53\n",
      "  retainRate: !!float 0.39\n",
      "  incrementMin: !!int 3\n",
      "  incrementRange: !!int 44\n",
      "\n",
      "### DP 7\n",
      "- arrivalRate: !!float 1.42\n",
      "  svcDist: tri\n",
      "  meanSvc: 3.875\n",
      "  maxServers: !!int 2\n",
      "  availability: !!float 0.25\n",
      "  retainRate: !!float 0.68\n",
      "  incrementMin: !!int 8\n",
      "  incrementRange: !!int 45\n",
      "\n",
      "### DP 8\n",
      "- arrivalRate: !!float 1.13\n",
      "  svcDist: unif\n",
      "  meanSvc: 3.751\n",
      "  maxServers: !!int 2\n",
      "  availability: !!float 0.84\n",
      "  retainRate: !!float 0.41\n",
      "  incrementMin: !!int 4\n",
      "  incrementRange: !!int 50\n",
      "\n",
      "### DP 9\n",
      "- arrivalRate: !!float 1.362\n",
      "  svcDist: tri\n",
      "  meanSvc: 0.884\n",
      "  maxServers: !!int 2\n",
      "  availability: !!float 0.72\n",
      "  retainRate: !!float 0.45\n",
      "  incrementMin: !!int 0\n",
      "  incrementRange: !!int 10\n",
      "\n",
      "### DP 10\n",
      "- arrivalRate: !!float 1.536\n",
      "  svcDist: unif\n",
      "  meanSvc: 1.133\n",
      "  maxServers: !!int 2\n",
      "  availability: !!float 0.39\n",
      "  retainRate: !!float 0.6\n",
      "  incrementMin: !!int 2\n",
      "  incrementRange: !!int 19\n",
      "\n",
      "### DP 11\n",
      "- arrivalRate: !!float 1.478\n",
      "  svcDist: tri\n",
      "  meanSvc: 3.003\n",
      "  maxServers: !!int 3\n",
      "  availability: !!float 0.47\n",
      "  retainRate: !!float 0.29\n",
      "  incrementMin: !!int 3\n",
      "  incrementRange: !!int 9\n",
      "\n",
      "### DP 12\n",
      "- arrivalRate: !!float 1.594\n",
      "  svcDist: unif\n",
      "  meanSvc: 2.629\n",
      "  maxServers: !!int 3\n",
      "  availability: !!float 0.74\n",
      "  retainRate: !!float 0.88\n",
      "  incrementMin: !!int 9\n",
      "  incrementRange: !!int 21\n",
      "\n",
      "### DP 13\n",
      "- arrivalRate: !!float 1.246\n",
      "  svcDist: sexp\n",
      "  meanSvc: 0.759\n",
      "  maxServers: !!int 2\n",
      "  availability: !!float 0.64\n",
      "  retainRate: !!float 0.33\n",
      "  incrementMin: !!int 19\n",
      "  incrementRange: !!int 39\n",
      "\n",
      "### DP 14\n",
      "- arrivalRate: !!float 1.71\n",
      "  svcDist: unif\n",
      "  meanSvc: 1.507\n",
      "  maxServers: !!int 3\n",
      "  availability: !!float 0.35\n",
      "  retainRate: !!float 0.62\n",
      "  incrementMin: !!int 19\n",
      "  incrementRange: !!int 36\n",
      "\n",
      "### DP 15\n",
      "- arrivalRate: !!float 1.304\n",
      "  svcDist: tri\n",
      "  meanSvc: 3.377\n",
      "  maxServers: !!int 3\n",
      "  availability: !!float 0.49\n",
      "  retainRate: !!float 0.25\n",
      "  incrementMin: !!int 13\n",
      "  incrementRange: !!int 38\n",
      "\n",
      "### DP 16\n",
      "- arrivalRate: !!float 1.652\n",
      "  svcDist: unif\n",
      "  meanSvc: 2.379\n",
      "  maxServers: !!int 3\n",
      "  availability: !!float 0.78\n",
      "  retainRate: !!float 0.84\n",
      "  incrementMin: !!int 11\n",
      "  incrementRange: !!int 33\n",
      "\n",
      "### DP 17\n",
      "- arrivalRate: !!float 1.072\n",
      "  svcDist: unif\n",
      "  meanSvc: 2.006\n",
      "  maxServers: !!int 2\n",
      "  availability: !!float 0.57\n",
      "  retainRate: !!float 0.57\n",
      "  incrementMin: !!int 10\n",
      "  incrementRange: !!int 26\n",
      "\n",
      "### DP 18\n",
      "- arrivalRate: !!float 0.143\n",
      "  svcDist: exp\n",
      "  meanSvc: 2.255\n",
      "  maxServers: !!int 3\n",
      "  availability: !!float 0.33\n",
      "  retainRate: !!float 0.49\n",
      "  incrementMin: !!int 6\n",
      "  incrementRange: !!int 27\n",
      "\n",
      "### DP 19\n",
      "- arrivalRate: !!float 0.317\n",
      "  svcDist: sexp\n",
      "  meanSvc: 3.501\n",
      "  maxServers: !!int 2\n",
      "  availability: !!float 0.6\n",
      "  retainRate: !!float 0.78\n",
      "  incrementMin: !!int 5\n",
      "  incrementRange: !!int 35\n",
      "\n",
      "### DP 20\n",
      "- arrivalRate: !!float 0.375\n",
      "  svcDist: unif\n",
      "  meanSvc: 0.385\n",
      "  maxServers: !!int 3\n",
      "  availability: !!float 0.88\n",
      "  retainRate: !!float 0.51\n",
      "  incrementMin: !!int 6\n",
      "  incrementRange: !!int 48\n",
      "\n",
      "### DP 21\n",
      "- arrivalRate: !!float 0.955\n",
      "  svcDist: sexp\n",
      "  meanSvc: 0.011\n",
      "  maxServers: !!int 2\n",
      "  availability: !!float 0.29\n",
      "  retainRate: !!float 0.8\n",
      "  incrementMin: !!int 4\n",
      "  incrementRange: !!int 47\n",
      "\n",
      "### DP 22\n",
      "- arrivalRate: !!float 0.259\n",
      "  svcDist: exp\n",
      "  meanSvc: 2.13\n",
      "  maxServers: !!int 3\n",
      "  availability: !!float 0.45\n",
      "  retainRate: !!float 0.43\n",
      "  incrementMin: !!int 12\n",
      "  incrementRange: !!int 22\n",
      "\n",
      "### DP 23\n",
      "- arrivalRate: !!float 0.201\n",
      "  svcDist: sexp\n",
      "  meanSvc: 2.753\n",
      "  maxServers: !!int 2\n",
      "  availability: !!float 0.62\n",
      "  retainRate: !!float 0.76\n",
      "  incrementMin: !!int 17\n",
      "  incrementRange: !!int 7\n",
      "\n",
      "### DP 24\n",
      "- arrivalRate: !!float 0.723\n",
      "  svcDist: unif\n",
      "  meanSvc: 0.136\n",
      "  maxServers: !!int 3\n",
      "  availability: !!float 0.9\n",
      "  retainRate: !!float 0.47\n",
      "  incrementMin: !!int 13\n",
      "  incrementRange: !!int 6\n",
      "\n",
      "### DP 25\n",
      "- arrivalRate: !!float 1.013\n",
      "  svcDist: tri\n",
      "  meanSvc: 0.26\n",
      "  maxServers: !!int 2\n",
      "  availability: !!float 0.31\n",
      "  retainRate: !!float 0.74\n",
      "  incrementMin: !!int 16\n",
      "  incrementRange: !!int 1\n",
      "\n",
      "### DP 26\n",
      "- arrivalRate: !!float 0.781\n",
      "  svcDist: unif\n",
      "  meanSvc: 3.127\n",
      "  maxServers: !!int 2\n",
      "  availability: !!float 0.43\n",
      "  retainRate: !!float 0.7\n",
      "  incrementMin: !!int 20\n",
      "  incrementRange: !!int 41\n",
      "\n",
      "### DP 27\n",
      "- arrivalRate: !!float 0.607\n",
      "  svcDist: tri\n",
      "  meanSvc: 2.878\n",
      "  maxServers: !!int 2\n",
      "  availability: !!float 0.76\n",
      "  retainRate: !!float 0.55\n",
      "  incrementMin: !!int 18\n",
      "  incrementRange: !!int 32\n",
      "\n",
      "### DP 28\n",
      "- arrivalRate: !!float 0.665\n",
      "  svcDist: unif\n",
      "  meanSvc: 1.008\n",
      "  maxServers: !!int 1\n",
      "  availability: !!float 0.68\n",
      "  retainRate: !!float 0.86\n",
      "  incrementMin: !!int 18\n",
      "  incrementRange: !!int 42\n",
      "\n",
      "### DP 29\n",
      "- arrivalRate: !!float 0.549\n",
      "  svcDist: tri\n",
      "  meanSvc: 1.382\n",
      "  maxServers: !!int 1\n",
      "  availability: !!float 0.41\n",
      "  retainRate: !!float 0.27\n",
      "  incrementMin: !!int 11\n",
      "  incrementRange: !!int 30\n",
      "\n",
      "### DP 30\n",
      "- arrivalRate: !!float 0.897\n",
      "  svcDist: exp\n",
      "  meanSvc: 3.252\n",
      "  maxServers: !!int 2\n",
      "  availability: !!float 0.51\n",
      "  retainRate: !!float 0.82\n",
      "  incrementMin: !!int 1\n",
      "  incrementRange: !!int 12\n",
      "\n",
      "### DP 31\n",
      "- arrivalRate: !!float 0.433\n",
      "  svcDist: tri\n",
      "  meanSvc: 2.504\n",
      "  maxServers: !!int 1\n",
      "  availability: !!float 0.8\n",
      "  retainRate: !!float 0.53\n",
      "  incrementMin: !!int 1\n",
      "  incrementRange: !!int 15\n",
      "\n",
      "### DP 32\n",
      "- arrivalRate: !!float 0.839\n",
      "  svcDist: unif\n",
      "  meanSvc: 0.634\n",
      "  maxServers: !!int 1\n",
      "  availability: !!float 0.66\n",
      "  retainRate: !!float 0.9\n",
      "  incrementMin: !!int 7\n",
      "  incrementRange: !!int 13\n",
      "\n",
      "### DP 33\n",
      "- arrivalRate: !!float 0.491\n",
      "  svcDist: tri\n",
      "  meanSvc: 1.632\n",
      "  maxServers: !!int 1\n",
      "  availability: !!float 0.37\n",
      "  retainRate: !!float 0.31\n",
      "  incrementMin: !!int 9\n",
      "  incrementRange: !!int 18\n",
      "\n",
      "### DP 34\n",
      "- arrivalRate: !!float 0.317\n",
      "  svcDist: tri\n",
      "  meanSvc: 0.759\n",
      "  maxServers: !!int 3\n",
      "  availability: !!float 0.66\n",
      "  retainRate: !!float 0.7\n",
      "  incrementMin: !!int 9\n",
      "  incrementRange: !!int 50\n",
      "\n",
      "### DP 35\n",
      "- arrivalRate: !!float 2.0\n",
      "  svcDist: sexp\n",
      "  meanSvc: 1.507\n",
      "  maxServers: !!int 2\n",
      "  availability: !!float 0.37\n",
      "  retainRate: !!float 0.74\n",
      "  incrementMin: !!int 6\n",
      "  incrementRange: !!int 45\n",
      "\n",
      "### DP 36\n",
      "- arrivalRate: !!float 0.955\n",
      "  svcDist: exp\n",
      "  meanSvc: 0.634\n",
      "  maxServers: !!int 1\n",
      "  availability: !!float 0.64\n",
      "  retainRate: !!float 0.72\n",
      "  incrementMin: !!int 1\n",
      "  incrementRange: !!int 16\n",
      "\n",
      "### DP 37\n",
      "- arrivalRate: !!float 1.768\n",
      "  svcDist: exp\n",
      "  meanSvc: 1.632\n",
      "  maxServers: !!int 3\n",
      "  availability: !!float 0.35\n",
      "  retainRate: !!float 0.78\n",
      "  incrementMin: !!int 1\n",
      "  incrementRange: !!int 22\n",
      "\n",
      "### DP 38\n",
      "- arrivalRate: !!float 0.201\n",
      "  svcDist: tri\n",
      "  meanSvc: 0.884\n",
      "  maxServers: !!int 2\n",
      "  availability: !!float 0.72\n",
      "  retainRate: !!float 0.51\n",
      "  incrementMin: !!int 11\n",
      "  incrementRange: !!int 4\n",
      "\n",
      "### DP 39\n",
      "- arrivalRate: !!float 1.884\n",
      "  svcDist: tri\n",
      "  meanSvc: 1.133\n",
      "  maxServers: !!int 2\n",
      "  availability: !!float 0.39\n",
      "  retainRate: !!float 0.35\n",
      "  incrementMin: !!int 18\n",
      "  incrementRange: !!int 3\n",
      "\n",
      "### DP 40\n",
      "- arrivalRate: !!float 1.013\n",
      "  svcDist: exp\n",
      "  meanSvc: 1.008\n",
      "  maxServers: !!int 1\n",
      "  availability: !!float 0.68\n",
      "  retainRate: !!float 0.49\n",
      "  incrementMin: !!int 18\n",
      "  incrementRange: !!int 44\n",
      "\n",
      "### DP 41\n",
      "- arrivalRate: !!float 1.42\n",
      "  svcDist: exp\n",
      "  meanSvc: 1.382\n",
      "  maxServers: !!int 3\n",
      "  availability: !!float 0.41\n",
      "  retainRate: !!float 0.39\n",
      "  incrementMin: !!int 20\n",
      "  incrementRange: !!int 27\n",
      "\n",
      "### DP 42\n",
      "- arrivalRate: !!float 0.607\n",
      "  svcDist: tri\n",
      "  meanSvc: 2.13\n",
      "  maxServers: !!int 2\n",
      "  availability: !!float 0.45\n",
      "  retainRate: !!float 0.25\n",
      "  incrementMin: !!int 4\n",
      "  incrementRange: !!int 30\n",
      "\n",
      "### DP 43\n",
      "- arrivalRate: !!float 1.362\n",
      "  svcDist: tri\n",
      "  meanSvc: 2.753\n",
      "  maxServers: !!int 1\n",
      "  availability: !!float 0.6\n",
      "  retainRate: !!float 0.31\n",
      "  incrementMin: !!int 8\n",
      "  incrementRange: !!int 42\n",
      "\n",
      "### DP 44\n",
      "- arrivalRate: !!float 0.549\n",
      "  svcDist: unif\n",
      "  meanSvc: 3.875\n",
      "  maxServers: !!int 2\n",
      "  availability: !!float 0.29\n",
      "  retainRate: !!float 0.33\n",
      "  incrementMin: !!int 3\n",
      "  incrementRange: !!int 19\n",
      "\n",
      "### DP 45\n",
      "- arrivalRate: !!float 1.478\n",
      "  svcDist: unif\n",
      "  meanSvc: 3.751\n",
      "  maxServers: !!int 3\n",
      "  availability: !!float 0.88\n",
      "  retainRate: !!float 0.55\n",
      "  incrementMin: !!int 8\n",
      "  incrementRange: !!int 12\n",
      "\n",
      "### DP 46\n",
      "- arrivalRate: !!float 0.433\n",
      "  svcDist: tri\n",
      "  meanSvc: 2.255\n",
      "  maxServers: !!int 2\n",
      "  availability: !!float 0.33\n",
      "  retainRate: !!float 0.88\n",
      "  incrementMin: !!int 16\n",
      "  incrementRange: !!int 18\n",
      "\n",
      "### DP 47\n",
      "- arrivalRate: !!float 1.246\n",
      "  svcDist: tri\n",
      "  meanSvc: 3.501\n",
      "  maxServers: !!int 1\n",
      "  availability: !!float 0.62\n",
      "  retainRate: !!float 0.86\n",
      "  incrementMin: !!int 14\n",
      "  incrementRange: !!int 13\n",
      "\n",
      "### DP 48\n",
      "- arrivalRate: !!float 0.491\n",
      "  svcDist: exp\n",
      "  meanSvc: 3.626\n",
      "  maxServers: !!int 2\n",
      "  availability: !!float 0.25\n",
      "  retainRate: !!float 0.68\n",
      "  incrementMin: !!int 15\n",
      "  incrementRange: !!int 36\n",
      "\n",
      "### DP 49\n",
      "- arrivalRate: !!float 1.304\n",
      "  svcDist: unif\n",
      "  meanSvc: 4.0\n",
      "  maxServers: !!int 3\n",
      "  availability: !!float 0.84\n",
      "  retainRate: !!float 0.62\n",
      "  incrementMin: !!int 13\n",
      "  incrementRange: !!int 41\n",
      "\n",
      "### DP 50\n",
      "- arrivalRate: !!float 1.826\n",
      "  svcDist: unif\n",
      "  meanSvc: 3.252\n",
      "  maxServers: !!int 1\n",
      "  availability: !!float 0.49\n",
      "  retainRate: !!float 0.45\n",
      "  incrementMin: !!int 11\n",
      "  incrementRange: !!int 1\n",
      "\n",
      "### DP 51\n",
      "- arrivalRate: !!float 0.143\n",
      "  svcDist: exp\n",
      "  meanSvc: 2.504\n",
      "  maxServers: !!int 2\n",
      "  availability: !!float 0.78\n",
      "  retainRate: !!float 0.41\n",
      "  incrementMin: !!int 14\n",
      "  incrementRange: !!int 6\n",
      "\n",
      "### DP 52\n",
      "- arrivalRate: !!float 1.188\n",
      "  svcDist: sexp\n",
      "  meanSvc: 3.377\n",
      "  maxServers: !!int 3\n",
      "  availability: !!float 0.51\n",
      "  retainRate: !!float 0.43\n",
      "  incrementMin: !!int 19\n",
      "  incrementRange: !!int 35\n",
      "\n",
      "### DP 53\n",
      "- arrivalRate: !!float 0.375\n",
      "  svcDist: sexp\n",
      "  meanSvc: 2.379\n",
      "  maxServers: !!int 1\n",
      "  availability: !!float 0.8\n",
      "  retainRate: !!float 0.37\n",
      "  incrementMin: !!int 19\n",
      "  incrementRange: !!int 29\n",
      "\n",
      "### DP 54\n",
      "- arrivalRate: !!float 1.942\n",
      "  svcDist: unif\n",
      "  meanSvc: 3.127\n",
      "  maxServers: !!int 2\n",
      "  availability: !!float 0.43\n",
      "  retainRate: !!float 0.64\n",
      "  incrementMin: !!int 9\n",
      "  incrementRange: !!int 47\n",
      "\n",
      "### DP 55\n",
      "- arrivalRate: !!float 0.259\n",
      "  svcDist: unif\n",
      "  meanSvc: 2.878\n",
      "  maxServers: !!int 2\n",
      "  availability: !!float 0.76\n",
      "  retainRate: !!float 0.8\n",
      "  incrementMin: !!int 3\n",
      "  incrementRange: !!int 48\n",
      "\n",
      "### DP 56\n",
      "- arrivalRate: !!float 1.13\n",
      "  svcDist: sexp\n",
      "  meanSvc: 3.003\n",
      "  maxServers: !!int 3\n",
      "  availability: !!float 0.47\n",
      "  retainRate: !!float 0.66\n",
      "  incrementMin: !!int 2\n",
      "  incrementRange: !!int 7\n",
      "\n",
      "### DP 57\n",
      "- arrivalRate: !!float 0.723\n",
      "  svcDist: sexp\n",
      "  meanSvc: 2.629\n",
      "  maxServers: !!int 1\n",
      "  availability: !!float 0.74\n",
      "  retainRate: !!float 0.76\n",
      "  incrementMin: !!int 0\n",
      "  incrementRange: !!int 24\n",
      "\n",
      "### DP 58\n",
      "- arrivalRate: !!float 1.536\n",
      "  svcDist: unif\n",
      "  meanSvc: 1.881\n",
      "  maxServers: !!int 2\n",
      "  availability: !!float 0.7\n",
      "  retainRate: !!float 0.9\n",
      "  incrementMin: !!int 16\n",
      "  incrementRange: !!int 21\n",
      "\n",
      "### DP 59\n",
      "- arrivalRate: !!float 0.781\n",
      "  svcDist: unif\n",
      "  meanSvc: 1.258\n",
      "  maxServers: !!int 3\n",
      "  availability: !!float 0.55\n",
      "  retainRate: !!float 0.84\n",
      "  incrementMin: !!int 13\n",
      "  incrementRange: !!int 9\n",
      "\n",
      "### DP 60\n",
      "- arrivalRate: !!float 1.594\n",
      "  svcDist: tri\n",
      "  meanSvc: 0.136\n",
      "  maxServers: !!int 2\n",
      "  availability: !!float 0.86\n",
      "  retainRate: !!float 0.82\n",
      "  incrementMin: !!int 17\n",
      "  incrementRange: !!int 32\n",
      "\n",
      "### DP 61\n",
      "- arrivalRate: !!float 0.665\n",
      "  svcDist: tri\n",
      "  meanSvc: 0.26\n",
      "  maxServers: !!int 2\n",
      "  availability: !!float 0.27\n",
      "  retainRate: !!float 0.6\n",
      "  incrementMin: !!int 12\n",
      "  incrementRange: !!int 39\n",
      "\n",
      "### DP 62\n",
      "- arrivalRate: !!float 1.71\n",
      "  svcDist: unif\n",
      "  meanSvc: 1.756\n",
      "  maxServers: !!int 2\n",
      "  availability: !!float 0.82\n",
      "  retainRate: !!float 0.27\n",
      "  incrementMin: !!int 4\n",
      "  incrementRange: !!int 33\n",
      "\n",
      "### DP 63\n",
      "- arrivalRate: !!float 0.897\n",
      "  svcDist: unif\n",
      "  meanSvc: 0.51\n",
      "  maxServers: !!int 3\n",
      "  availability: !!float 0.53\n",
      "  retainRate: !!float 0.29\n",
      "  incrementMin: !!int 6\n",
      "  incrementRange: !!int 38\n",
      "\n",
      "### DP 64\n",
      "- arrivalRate: !!float 1.652\n",
      "  svcDist: sexp\n",
      "  meanSvc: 0.385\n",
      "  maxServers: !!int 2\n",
      "  availability: !!float 0.9\n",
      "  retainRate: !!float 0.47\n",
      "  incrementMin: !!int 5\n",
      "  incrementRange: !!int 15\n",
      "\n",
      "### DP 65\n",
      "- arrivalRate: !!float 0.839\n",
      "  svcDist: tri\n",
      "  meanSvc: 0.011\n",
      "  maxServers: !!int 1\n",
      "  availability: !!float 0.31\n",
      "  retainRate: !!float 0.53\n",
      "  incrementMin: !!int 7\n",
      "  incrementRange: !!int 10\n",
      "\n",
      "### DP 66\n",
      "- arrivalRate: !!float 0.955\n",
      "  svcDist: tri\n",
      "  meanSvc: 3.501\n",
      "  maxServers: !!int 2\n",
      "  availability: !!float 0.7\n",
      "  retainRate: !!float 0.55\n",
      "  incrementMin: !!int 20\n",
      "  incrementRange: !!int 35\n",
      "\n",
      "### DP 67\n",
      "- arrivalRate: !!float 0.375\n",
      "  svcDist: tri\n",
      "  meanSvc: 1.881\n",
      "  maxServers: !!int 1\n",
      "  availability: !!float 0.74\n",
      "  retainRate: !!float 0.45\n",
      "  incrementMin: !!int 18\n",
      "  incrementRange: !!int 22\n",
      "\n",
      "### DP 68\n",
      "- arrivalRate: !!float 1.826\n",
      "  svcDist: sexp\n",
      "  meanSvc: 0.136\n",
      "  maxServers: !!int 2\n",
      "  availability: !!float 0.72\n",
      "  retainRate: !!float 0.27\n",
      "  incrementMin: !!int 6\n",
      "  incrementRange: !!int 48\n",
      "\n",
      "### DP 69\n",
      "- arrivalRate: !!float 2.0\n",
      "  svcDist: tri\n",
      "  meanSvc: 3.751\n",
      "  maxServers: !!int 1\n",
      "  availability: !!float 0.78\n",
      "  retainRate: !!float 0.29\n",
      "  incrementMin: !!int 9\n",
      "  incrementRange: !!int 6\n",
      "\n",
      "### DP 70\n",
      "- arrivalRate: !!float 1.013\n",
      "  svcDist: tri\n",
      "  meanSvc: 2.753\n",
      "  maxServers: !!int 2\n",
      "  availability: !!float 0.51\n",
      "  retainRate: !!float 0.62\n",
      "  incrementMin: !!int 1\n",
      "  incrementRange: !!int 7\n",
      "\n",
      "### DP 71\n",
      "- arrivalRate: !!float 0.723\n",
      "  svcDist: tri\n",
      "  meanSvc: 1.756\n",
      "  maxServers: !!int 1\n",
      "  availability: !!float 0.35\n",
      "  retainRate: !!float 0.82\n",
      "  incrementMin: !!int 1\n",
      "  incrementRange: !!int 27\n",
      "\n",
      "### DP 72\n",
      "- arrivalRate: !!float 1.942\n",
      "  svcDist: tri\n",
      "  meanSvc: 0.011\n",
      "  maxServers: !!int 2\n",
      "  availability: !!float 0.49\n",
      "  retainRate: !!float 0.84\n",
      "  incrementMin: !!int 18\n",
      "  incrementRange: !!int 1\n",
      "\n",
      "### DP 73\n",
      "- arrivalRate: !!float 1.884\n",
      "  svcDist: tri\n",
      "  meanSvc: 3.626\n",
      "  maxServers: !!int 2\n",
      "  availability: !!float 0.39\n",
      "  retainRate: !!float 0.9\n",
      "  incrementMin: !!int 11\n",
      "  incrementRange: !!int 47\n",
      "\n",
      "### DP 74\n",
      "- arrivalRate: !!float 0.549\n",
      "  svcDist: unif\n",
      "  meanSvc: 2.878\n",
      "  maxServers: !!int 2\n",
      "  availability: !!float 0.25\n",
      "  retainRate: !!float 0.37\n",
      "  incrementMin: !!int 12\n",
      "  incrementRange: !!int 30\n",
      "\n",
      "### DP 75\n",
      "- arrivalRate: !!float 0.665\n",
      "  svcDist: unif\n",
      "  meanSvc: 0.884\n",
      "  maxServers: !!int 2\n",
      "  availability: !!float 0.31\n",
      "  retainRate: !!float 0.49\n",
      "  incrementMin: !!int 17\n",
      "  incrementRange: !!int 10\n",
      "\n",
      "### DP 76\n",
      "- arrivalRate: !!float 1.536\n",
      "  svcDist: exp\n",
      "  meanSvc: 1.382\n",
      "  maxServers: !!int 1\n",
      "  availability: !!float 0.33\n",
      "  retainRate: !!float 0.35\n",
      "  incrementMin: !!int 8\n",
      "  incrementRange: !!int 32\n",
      "\n",
      "### DP 77\n",
      "- arrivalRate: !!float 1.362\n",
      "  svcDist: exp\n",
      "  meanSvc: 3.003\n",
      "  maxServers: !!int 3\n",
      "  availability: !!float 0.55\n",
      "  retainRate: !!float 0.51\n",
      "  incrementMin: !!int 4\n",
      "  incrementRange: !!int 9\n",
      "\n",
      "### DP 78\n",
      "- arrivalRate: !!float 0.491\n",
      "  svcDist: unif\n",
      "  meanSvc: 2.379\n",
      "  maxServers: !!int 1\n",
      "  availability: !!float 0.88\n",
      "  retainRate: !!float 0.76\n",
      "  incrementMin: !!int 7\n",
      "  incrementRange: !!int 15\n",
      "\n",
      "### DP 79\n",
      "- arrivalRate: !!float 0.839\n",
      "  svcDist: exp\n",
      "  meanSvc: 0.634\n",
      "  maxServers: !!int 2\n",
      "  availability: !!float 0.86\n",
      "  retainRate: !!float 0.72\n",
      "  incrementMin: !!int 5\n",
      "  incrementRange: !!int 39\n",
      "\n",
      "### DP 80\n",
      "- arrivalRate: !!float 1.71\n",
      "  svcDist: exp\n",
      "  meanSvc: 1.507\n",
      "  maxServers: !!int 1\n",
      "  availability: !!float 0.68\n",
      "  retainRate: !!float 0.74\n",
      "  incrementMin: !!int 14\n",
      "  incrementRange: !!int 18\n",
      "\n",
      "### DP 81\n",
      "- arrivalRate: !!float 1.246\n",
      "  svcDist: exp\n",
      "  meanSvc: 3.252\n",
      "  maxServers: !!int 3\n",
      "  availability: !!float 0.62\n",
      "  retainRate: !!float 0.68\n",
      "  incrementMin: !!int 16\n",
      "  incrementRange: !!int 38\n",
      "\n",
      "### DP 82\n",
      "- arrivalRate: !!float 1.188\n",
      "  svcDist: unif\n",
      "  meanSvc: 0.51\n",
      "  maxServers: !!int 2\n",
      "  availability: !!float 0.45\n",
      "  retainRate: !!float 0.6\n",
      "  incrementMin: !!int 0\n",
      "  incrementRange: !!int 16\n",
      "\n",
      "### DP 83\n",
      "- arrivalRate: !!float 1.768\n",
      "  svcDist: unif\n",
      "  meanSvc: 2.13\n",
      "  maxServers: !!int 3\n",
      "  availability: !!float 0.41\n",
      "  retainRate: !!float 0.7\n",
      "  incrementMin: !!int 2\n",
      "  incrementRange: !!int 29\n",
      "\n",
      "### DP 84\n",
      "- arrivalRate: !!float 0.317\n",
      "  svcDist: exp\n",
      "  meanSvc: 3.875\n",
      "  maxServers: !!int 2\n",
      "  availability: !!float 0.43\n",
      "  retainRate: !!float 0.88\n",
      "  incrementMin: !!int 14\n",
      "  incrementRange: !!int 3\n",
      "\n",
      "### DP 85\n",
      "- arrivalRate: !!float 0.143\n",
      "  svcDist: unif\n",
      "  meanSvc: 0.26\n",
      "  maxServers: !!int 3\n",
      "  availability: !!float 0.37\n",
      "  retainRate: !!float 0.86\n",
      "  incrementMin: !!int 11\n",
      "  incrementRange: !!int 45\n",
      "\n",
      "### DP 86\n",
      "- arrivalRate: !!float 1.13\n",
      "  svcDist: unif\n",
      "  meanSvc: 1.258\n",
      "  maxServers: !!int 2\n",
      "  availability: !!float 0.64\n",
      "  retainRate: !!float 0.53\n",
      "  incrementMin: !!int 19\n",
      "  incrementRange: !!int 44\n",
      "\n",
      "### DP 87\n",
      "- arrivalRate: !!float 1.42\n",
      "  svcDist: unif\n",
      "  meanSvc: 2.255\n",
      "  maxServers: !!int 3\n",
      "  availability: !!float 0.8\n",
      "  retainRate: !!float 0.33\n",
      "  incrementMin: !!int 19\n",
      "  incrementRange: !!int 24\n",
      "\n",
      "### DP 88\n",
      "- arrivalRate: !!float 0.201\n",
      "  svcDist: unif\n",
      "  meanSvc: 4.0\n",
      "  maxServers: !!int 2\n",
      "  availability: !!float 0.66\n",
      "  retainRate: !!float 0.31\n",
      "  incrementMin: !!int 3\n",
      "  incrementRange: !!int 50\n",
      "\n",
      "### DP 89\n",
      "- arrivalRate: !!float 0.259\n",
      "  svcDist: unif\n",
      "  meanSvc: 0.385\n",
      "  maxServers: !!int 3\n",
      "  availability: !!float 0.76\n",
      "  retainRate: !!float 0.25\n",
      "  incrementMin: !!int 9\n",
      "  incrementRange: !!int 4\n",
      "\n",
      "### DP 90\n",
      "- arrivalRate: !!float 1.594\n",
      "  svcDist: tri\n",
      "  meanSvc: 1.133\n",
      "  maxServers: !!int 2\n",
      "  availability: !!float 0.9\n",
      "  retainRate: !!float 0.78\n",
      "  incrementMin: !!int 8\n",
      "  incrementRange: !!int 21\n",
      "\n",
      "### DP 91\n",
      "- arrivalRate: !!float 1.478\n",
      "  svcDist: tri\n",
      "  meanSvc: 3.127\n",
      "  maxServers: !!int 2\n",
      "  availability: !!float 0.84\n",
      "  retainRate: !!float 0.66\n",
      "  incrementMin: !!int 3\n",
      "  incrementRange: !!int 41\n",
      "\n",
      "### DP 92\n",
      "- arrivalRate: !!float 0.607\n",
      "  svcDist: sexp\n",
      "  meanSvc: 2.629\n",
      "  maxServers: !!int 3\n",
      "  availability: !!float 0.82\n",
      "  retainRate: !!float 0.8\n",
      "  incrementMin: !!int 13\n",
      "  incrementRange: !!int 19\n",
      "\n",
      "### DP 93\n",
      "- arrivalRate: !!float 0.781\n",
      "  svcDist: sexp\n",
      "  meanSvc: 1.008\n",
      "  maxServers: !!int 1\n",
      "  availability: !!float 0.6\n",
      "  retainRate: !!float 0.64\n",
      "  incrementMin: !!int 16\n",
      "  incrementRange: !!int 42\n",
      "\n",
      "### DP 94\n",
      "- arrivalRate: !!float 1.652\n",
      "  svcDist: tri\n",
      "  meanSvc: 1.632\n",
      "  maxServers: !!int 3\n",
      "  availability: !!float 0.27\n",
      "  retainRate: !!float 0.39\n",
      "  incrementMin: !!int 13\n",
      "  incrementRange: !!int 36\n",
      "\n",
      "### DP 95\n",
      "- arrivalRate: !!float 1.304\n",
      "  svcDist: sexp\n",
      "  meanSvc: 3.377\n",
      "  maxServers: !!int 2\n",
      "  availability: !!float 0.29\n",
      "  retainRate: !!float 0.43\n",
      "  incrementMin: !!int 15\n",
      "  incrementRange: !!int 12\n",
      "\n",
      "### DP 96\n",
      "- arrivalRate: !!float 0.433\n",
      "  svcDist: sexp\n",
      "  meanSvc: 2.504\n",
      "  maxServers: !!int 3\n",
      "  availability: !!float 0.47\n",
      "  retainRate: !!float 0.41\n",
      "  incrementMin: !!int 6\n",
      "  incrementRange: !!int 33\n",
      "\n",
      "### DP 97\n",
      "- arrivalRate: !!float 0.897\n",
      "  svcDist: sexp\n",
      "  meanSvc: 0.759\n",
      "  maxServers: !!int 1\n",
      "  availability: !!float 0.53\n",
      "  retainRate: !!float 0.47\n",
      "  incrementMin: !!int 4\n",
      "  incrementRange: !!int 13\n",
      "\n"
     ]
    }
   ],
   "source": [
    "with open (\"nolhs.txt\", \"r\") as file:\n",
    "    i = 0\n",
    "    for row in file:\n",
    "        i+= 1\n",
    "        a, b, c, d, e, f, g, h = row.split()\n",
    "        dist=\"\"\n",
    "        if b==\"1\":\n",
    "            dist=\"sexp\"\n",
    "        if b==\"2\":\n",
    "            dist=\"tri\"\n",
    "        if b==\"3\":\n",
    "            dist=\"unif\"\n",
    "        if b==\"4\":\n",
    "            dist=\"exp\"\n",
    "        print(\"### DP\",i)\n",
    "        print(\"- arrivalRate: !!float\", a)\n",
    "        print(\"  svcDist:\", dist)\n",
    "        print(\"  meanSvc:\", c)\n",
    "        print(\"  maxServers: !!int\", d)\n",
    "        print(\"  availability: !!float\", e)\n",
    "        print(\"  retainRate: !!float\", f)\n",
    "        print(\"  incrementMin: !!int\", g)\n",
    "        print(\"  incrementRange: !!int\", h)\n",
    "        print()"
   ]
  }
 ],
 "metadata": {
  "kernelspec": {
   "display_name": "Python 3 (ipykernel)",
   "language": "python",
   "name": "python3"
  },
  "language_info": {
   "codemirror_mode": {
    "name": "ipython",
    "version": 3
   },
   "file_extension": ".py",
   "mimetype": "text/x-python",
   "name": "python",
   "nbconvert_exporter": "python",
   "pygments_lexer": "ipython3",
   "version": "3.9.7"
  }
 },
 "nbformat": 4,
 "nbformat_minor": 5
}
